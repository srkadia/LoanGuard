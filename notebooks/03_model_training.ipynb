{
 "cells": [
  {
   "cell_type": "markdown",
   "metadata": {},
   "source": [
    "# **LoanGuard: Model Training** 🚀\n",
    "\n",
    "## **Objective**\n",
    "This notebook focuses on building and evaluating machine learning models for **loan default prediction** using Lending Club data. The goal is to create a robust model that can accurately classify borrowers into **\"Fully Paid\"** and **\"Charged Off\"** categories, helping lenders make informed decisions.\n",
    "\n",
    "## **Models to be Implemented**\n",
    "- ✔️ **Baseline Models**: Logistic Regression, Naive Bayes, K-Nearest Neighbors (KNN)\n",
    "- ✔️ **Tree-Based Models**: Decision Tree, Random Forest, XGBoost, LightGBM, CatBoost\n",
    "- ✔️ **Artificial Neural Network (ANN)**: Deep learning-based approach for capturing complex patterns\n",
    "- ✔️ **Stacking Ensemble**: Combining multiple models for better predictive power\n",
    "\n",
    "## **Expected Outcome**\n",
    "By the end of this notebook, we aim to have a **high-performing loan default prediction model** that balances **accuracy, precision, and recall**, ensuring minimal false negatives (misclassified defaulters).\n",
    "\n",
    "---"
   ]
  },
  {
   "cell_type": "markdown",
   "metadata": {
    "vscode": {
     "languageId": "plaintext"
    }
   },
   "source": [
    "### 1. **Loading Libs**"
   ]
  },
  {
   "cell_type": "code",
   "execution_count": 1,
   "metadata": {},
   "outputs": [],
   "source": [
    "import pandas as pd\n",
    "import matplotlib.pyplot as plt\n",
    "import seaborn as sns\n",
    "import time\n",
    "import os\n",
    "import joblib\n",
    "\n",
    "from sklearn.preprocessing import StandardScaler\n",
    "from sklearn.metrics import (\n",
    "    accuracy_score, classification_report, roc_auc_score, \n",
    "    confusion_matrix, precision_score, recall_score, f1_score\n",
    ")\n",
    "\n",
    "# Models\n",
    "from sklearn.linear_model import LogisticRegression\n",
    "from sklearn.naive_bayes import GaussianNB\n",
    "from sklearn.neighbors import KNeighborsClassifier\n",
    "from sklearn.tree import DecisionTreeClassifier\n",
    "from sklearn.ensemble import RandomForestClassifier\n",
    "from xgboost import XGBClassifier\n",
    "from lightgbm import LGBMClassifier\n",
    "from catboost import CatBoostClassifier"
   ]
  },
  {
   "cell_type": "markdown",
   "metadata": {},
   "source": [
    "### 2. **Load and Preprocess Data**"
   ]
  },
  {
   "cell_type": "code",
   "execution_count": 2,
   "metadata": {},
   "outputs": [],
   "source": [
    "# Load train and test data\n",
    "df_train = pd.read_csv('../data/processed/train.csv')\n",
    "df_test = pd.read_csv('../data/processed/test.csv')"
   ]
  },
  {
   "cell_type": "code",
   "execution_count": 3,
   "metadata": {},
   "outputs": [],
   "source": [
    "def encode_target(df):\n",
    "    \"\"\"Encode loan_status: Fully Paid -> 0, Charged Off -> 1\"\"\"\n",
    "    df['loan_status'] = df['loan_status'].map({'Fully Paid': 0, 'Charged Off': 1})\n",
    "    return df"
   ]
  },
  {
   "cell_type": "code",
   "execution_count": 4,
   "metadata": {},
   "outputs": [],
   "source": [
    "df_train = encode_target(df_train)\n",
    "df_test = encode_target(df_test)"
   ]
  },
  {
   "cell_type": "code",
   "execution_count": 5,
   "metadata": {},
   "outputs": [],
   "source": [
    "# Define features and target\n",
    "X_train = df_train.drop(columns=['loan_status'])\n",
    "y_train = df_train['loan_status']\n",
    "X_test = df_test.drop(columns=['loan_status'])\n",
    "y_test = df_test['loan_status']"
   ]
  },
  {
   "cell_type": "code",
   "execution_count": 6,
   "metadata": {},
   "outputs": [],
   "source": [
    "# Feature Scaling\n",
    "scaler = StandardScaler()\n",
    "X_train = scaler.fit_transform(X_train)\n",
    "X_test = scaler.transform(X_test)"
   ]
  },
  {
   "cell_type": "markdown",
   "metadata": {},
   "source": [
    "### 3. Define Model Evaluation Function"
   ]
  },
  {
   "cell_type": "code",
   "execution_count": 7,
   "metadata": {},
   "outputs": [],
   "source": [
    "def evaluate_model(model_name, y_test, y_pred):\n",
    "    print(f\"\\n📊 {model_name} Performance:\")\n",
    "    print(\"Accuracy:\", accuracy_score(y_test, y_pred))\n",
    "    print(\"Precision:\", precision_score(y_test, y_pred))\n",
    "    print(\"Recall:\", recall_score(y_test, y_pred))\n",
    "    print(\"F1 Score:\", f1_score(y_test, y_pred))\n",
    "    print(\"ROC AUC Score:\", roc_auc_score(y_test, y_pred))\n",
    "    print(\"Confusion Matrix:\\n\", confusion_matrix(y_test, y_pred))\n",
    "    print(\"Classification Report:\\n\", classification_report(y_test, y_pred))"
   ]
  },
  {
   "cell_type": "markdown",
   "metadata": {},
   "source": [
    "### 4. Model training"
   ]
  },
  {
   "cell_type": "code",
   "execution_count": 8,
   "metadata": {},
   "outputs": [],
   "source": [
    "models = {\n",
    "    \"Logistic Regression\": LogisticRegression(max_iter=1000, solver='saga'),\n",
    "    \"Naive Bayes\": GaussianNB(),\n",
    "    \"KNN\": KNeighborsClassifier(n_neighbors=5),\n",
    "    \"Decision Tree\": DecisionTreeClassifier(),\n",
    "    \"Random Forest\": RandomForestClassifier(n_estimators=100),\n",
    "    \"XGBoost\": XGBClassifier(),\n",
    "    \"LightGBM\": LGBMClassifier(),\n",
    "    \"CatBoost\": CatBoostClassifier(verbose=0)\n",
    "}"
   ]
  },
  {
   "cell_type": "code",
   "execution_count": 9,
   "metadata": {},
   "outputs": [],
   "source": [
    "model_results = {}"
   ]
  },
  {
   "cell_type": "code",
   "execution_count": 10,
   "metadata": {},
   "outputs": [
    {
     "name": "stdout",
     "output_type": "stream",
     "text": [
      "Training Logistic Regression...\n",
      "Time taken: 265.42 seconds\n",
      "\n",
      "📊 Logistic Regression Performance:\n",
      "Accuracy: 0.8892143256940876\n",
      "Precision: 0.9397273379574265\n",
      "Recall: 0.4625981161695447\n",
      "F1 Score: 0.6199931620335061\n",
      "ROC AUC Score: 0.7276971027375839\n",
      "Confusion Matrix:\n",
      " [[104187    756]\n",
      " [ 13693  11787]]\n",
      "Classification Report:\n",
      "               precision    recall  f1-score   support\n",
      "\n",
      "           0       0.88      0.99      0.94    104943\n",
      "           1       0.94      0.46      0.62     25480\n",
      "\n",
      "    accuracy                           0.89    130423\n",
      "   macro avg       0.91      0.73      0.78    130423\n",
      "weighted avg       0.89      0.89      0.87    130423\n",
      "\n",
      "Training Naive Bayes...\n",
      "Time taken: 0.49 seconds\n",
      "\n",
      "📊 Naive Bayes Performance:\n",
      "Accuracy: 0.8676537113852618\n",
      "Precision: 0.7071633815597117\n",
      "Recall: 0.5505494505494506\n",
      "F1 Score: 0.6191054129796766\n",
      "ROC AUC Score: 0.7475977958940139\n",
      "Confusion Matrix:\n",
      " [[99134  5809]\n",
      " [11452 14028]]\n",
      "Classification Report:\n",
      "               precision    recall  f1-score   support\n",
      "\n",
      "           0       0.90      0.94      0.92    104943\n",
      "           1       0.71      0.55      0.62     25480\n",
      "\n",
      "    accuracy                           0.87    130423\n",
      "   macro avg       0.80      0.75      0.77    130423\n",
      "weighted avg       0.86      0.87      0.86    130423\n",
      "\n",
      "Training KNN...\n",
      "Time taken: 38.52 seconds\n",
      "\n",
      "📊 KNN Performance:\n",
      "Accuracy: 0.8721927880818567\n",
      "Precision: 0.7611285638077174\n",
      "Recall: 0.5039638932496076\n",
      "F1 Score: 0.6064083492715638\n",
      "ROC AUC Score: 0.7327810470888652\n",
      "Confusion Matrix:\n",
      " [[100913   4030]\n",
      " [ 12639  12841]]\n",
      "Classification Report:\n",
      "               precision    recall  f1-score   support\n",
      "\n",
      "           0       0.89      0.96      0.92    104943\n",
      "           1       0.76      0.50      0.61     25480\n",
      "\n",
      "    accuracy                           0.87    130423\n",
      "   macro avg       0.82      0.73      0.77    130423\n",
      "weighted avg       0.86      0.87      0.86    130423\n",
      "\n",
      "Training Decision Tree...\n",
      "Time taken: 5.98 seconds\n",
      "\n",
      "📊 Decision Tree Performance:\n",
      "Accuracy: 0.8297769565184056\n",
      "Precision: 0.5606974936137129\n",
      "Recall: 0.5943877551020408\n",
      "F1 Score: 0.5770513040330723\n",
      "ROC AUC Score: 0.7406584249720012\n",
      "Confusion Matrix:\n",
      " [[93077 11866]\n",
      " [10335 15145]]\n",
      "Classification Report:\n",
      "               precision    recall  f1-score   support\n",
      "\n",
      "           0       0.90      0.89      0.89    104943\n",
      "           1       0.56      0.59      0.58     25480\n",
      "\n",
      "    accuracy                           0.83    130423\n",
      "   macro avg       0.73      0.74      0.74    130423\n",
      "weighted avg       0.83      0.83      0.83    130423\n",
      "\n",
      "Training Random Forest...\n",
      "Time taken: 77.92 seconds\n",
      "\n",
      "📊 Random Forest Performance:\n",
      "Accuracy: 0.8890456437898223\n",
      "Precision: 0.9585936849121053\n",
      "Recall: 0.4515698587127159\n",
      "F1 Score: 0.6139316490142198\n",
      "ROC AUC Score: 0.7234169772299656\n",
      "Confusion Matrix:\n",
      " [[104446    497]\n",
      " [ 13974  11506]]\n",
      "Classification Report:\n",
      "               precision    recall  f1-score   support\n",
      "\n",
      "           0       0.88      1.00      0.94    104943\n",
      "           1       0.96      0.45      0.61     25480\n",
      "\n",
      "    accuracy                           0.89    130423\n",
      "   macro avg       0.92      0.72      0.77    130423\n",
      "weighted avg       0.90      0.89      0.87    130423\n",
      "\n",
      "Training XGBoost...\n",
      "Time taken: 1.55 seconds\n",
      "\n",
      "📊 XGBoost Performance:\n",
      "Accuracy: 0.8884015856099001\n",
      "Precision: 0.9047795479807336\n",
      "Recall: 0.4791993720565149\n",
      "F1 Score: 0.6265554842847979\n",
      "ROC AUC Score: 0.733477314836277\n",
      "Confusion Matrix:\n",
      " [[103658   1285]\n",
      " [ 13270  12210]]\n",
      "Classification Report:\n",
      "               precision    recall  f1-score   support\n",
      "\n",
      "           0       0.89      0.99      0.93    104943\n",
      "           1       0.90      0.48      0.63     25480\n",
      "\n",
      "    accuracy                           0.89    130423\n",
      "   macro avg       0.90      0.73      0.78    130423\n",
      "weighted avg       0.89      0.89      0.87    130423\n",
      "\n",
      "Training LightGBM...\n",
      "[LightGBM] [Info] Number of positive: 51958, number of negative: 212505\n",
      "[LightGBM] [Info] Auto-choosing row-wise multi-threading, the overhead of testing was 0.021209 seconds.\n",
      "You can set `force_row_wise=true` to remove the overhead.\n",
      "And if memory is not enough, you can set `force_col_wise=true`.\n",
      "[LightGBM] [Info] Total Bins 2217\n",
      "[LightGBM] [Info] Number of data points in the train set: 264463, number of used features: 80\n",
      "[LightGBM] [Info] [binary:BoostFromScore]: pavg=0.196466 -> initscore=-1.408530\n",
      "[LightGBM] [Info] Start training from score -1.408530\n",
      "Time taken: 1.39 seconds\n",
      "\n",
      "📊 LightGBM Performance:\n",
      "Accuracy: 0.8897280387661686\n",
      "Precision: 0.9408866995073891\n",
      "Recall: 0.464756671899529\n",
      "F1 Score: 0.6221825250880051\n",
      "ROC AUC Score: 0.7288335544969758\n",
      "Confusion Matrix:\n",
      " [[104199    744]\n",
      " [ 13638  11842]]\n",
      "Classification Report:\n",
      "               precision    recall  f1-score   support\n",
      "\n",
      "           0       0.88      0.99      0.94    104943\n",
      "           1       0.94      0.46      0.62     25480\n",
      "\n",
      "    accuracy                           0.89    130423\n",
      "   macro avg       0.91      0.73      0.78    130423\n",
      "weighted avg       0.90      0.89      0.87    130423\n",
      "\n",
      "Training CatBoost...\n",
      "Time taken: 29.77 seconds\n",
      "\n",
      "📊 CatBoost Performance:\n",
      "Accuracy: 0.8890609785083919\n",
      "Precision: 0.9056812320389065\n",
      "Recall: 0.48237833594976454\n",
      "F1 Score: 0.6294845202427595\n",
      "ROC AUC Score: 0.7350906192389018\n",
      "Confusion Matrix:\n",
      " [[103663   1280]\n",
      " [ 13189  12291]]\n",
      "Classification Report:\n",
      "               precision    recall  f1-score   support\n",
      "\n",
      "           0       0.89      0.99      0.93    104943\n",
      "           1       0.91      0.48      0.63     25480\n",
      "\n",
      "    accuracy                           0.89    130423\n",
      "   macro avg       0.90      0.74      0.78    130423\n",
      "weighted avg       0.89      0.89      0.88    130423\n",
      "\n"
     ]
    }
   ],
   "source": [
    "for name, model in models.items():\n",
    "    print(f\"Training {name}...\")\n",
    "    start_time = time.time()\n",
    "    model.fit(X_train, y_train)\n",
    "    y_pred = model.predict(X_test)\n",
    "    end_time = time.time()\n",
    "    print(f\"Time taken: {end_time - start_time:.2f} seconds\")\n",
    "    evaluate_model(name, y_test, y_pred)\n",
    "    model_results[name] = accuracy_score(y_test, y_pred)"
   ]
  },
  {
   "cell_type": "markdown",
   "metadata": {},
   "source": [
    "### 5. Save All Models"
   ]
  },
  {
   "cell_type": "code",
   "execution_count": 11,
   "metadata": {},
   "outputs": [
    {
     "name": "stdout",
     "output_type": "stream",
     "text": [
      "✅ Saved Logistic Regression to ../artifacts/Logistic_Regression.pkl\n",
      "✅ Saved Naive Bayes to ../artifacts/Naive_Bayes.pkl\n",
      "✅ Saved KNN to ../artifacts/KNN.pkl\n",
      "✅ Saved Decision Tree to ../artifacts/Decision_Tree.pkl\n",
      "✅ Saved Random Forest to ../artifacts/Random_Forest.pkl\n",
      "✅ Saved XGBoost to ../artifacts/XGBoost.pkl\n",
      "✅ Saved LightGBM to ../artifacts/LightGBM.pkl\n",
      "✅ Saved CatBoost to ../artifacts/CatBoost.pkl\n"
     ]
    }
   ],
   "source": [
    "os.makedirs(\"../artifacts\", exist_ok=True)\n",
    "for name, model in models.items():\n",
    "    filename = f\"../artifacts/{name.replace(' ', '_')}.pkl\"\n",
    "    joblib.dump(model, filename)\n",
    "    print(f\"✅ Saved {name} to {filename}\")"
   ]
  },
  {
   "cell_type": "markdown",
   "metadata": {},
   "source": [
    "### 5. Model Comparison & Selection"
   ]
  },
  {
   "cell_type": "code",
   "execution_count": 14,
   "metadata": {},
   "outputs": [
    {
     "name": "stdout",
     "output_type": "stream",
     "text": [
      "                 Model  Accuracy\n",
      "6             LightGBM  0.889728\n",
      "0  Logistic Regression  0.889214\n",
      "7             CatBoost  0.889061\n",
      "4        Random Forest  0.889046\n",
      "5              XGBoost  0.888402\n",
      "2                  KNN  0.872193\n",
      "1          Naive Bayes  0.867654\n",
      "3        Decision Tree  0.829777\n"
     ]
    }
   ],
   "source": [
    "results_df = pd.DataFrame(list(model_results.items()), columns=[\"Model\", \"Accuracy\"])\n",
    "results_df = results_df.sort_values(by=\"Accuracy\", ascending=False)\n",
    "print(results_df)"
   ]
  },
  {
   "cell_type": "code",
   "execution_count": 15,
   "metadata": {},
   "outputs": [
    {
     "data": {
      "image/png": "[encoded data removed]",
      "text/plain": [
       "<Figure size 1000x600 with 1 Axes>"
      ]
     },
     "metadata": {},
     "output_type": "display_data"
    }
   ],
   "source": [
    "# 📊 Visualization of Model Performance\n",
    "plt.figure(figsize=(10, 6))\n",
    "sns.barplot(x=results_df[\"Accuracy\"], y=results_df[\"Model\"], palette=\"viridis\", hue=results_df[\"Model\"], legend=False)\n",
    "plt.xlabel(\"Accuracy\")\n",
    "plt.ylabel(\"Model\")\n",
    "plt.title(\"Model Performance Comparison\")\n",
    "plt.xlim(0, 1)\n",
    "plt.grid(axis=\"x\", linestyle=\"--\", alpha=0.6)\n",
    "\n",
    "# Display the accuracy values on the bars\n",
    "for index, value in enumerate(results_df[\"Accuracy\"]):\n",
    "    plt.text(value + 0.01, index, f\"{value:.2%}\", va=\"center\")\n",
    "\n",
    "plt.show()"
   ]
  }
 ],
 "metadata": {
  "kernelspec": {
   "display_name": "Python 3",
   "language": "python",
   "name": "python3"
  },
  "language_info": {
   "codemirror_mode": {
    "name": "ipython",
    "version": 3
   },
   "file_extension": ".py",
   "mimetype": "text/x-python",
   "name": "python",
   "nbconvert_exporter": "python",
   "pygments_lexer": "ipython3",
   "version": "3.8.20"
  }
 },
 "nbformat": 4,
 "nbformat_minor": 2
}
